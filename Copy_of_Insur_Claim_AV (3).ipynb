{
  "nbformat": 4,
  "nbformat_minor": 0,
  "metadata": {
    "colab": {
      "provenance": [],
      "collapsed_sections": []
    },
    "kernelspec": {
      "name": "python3",
      "display_name": "Python 3"
    },
    "language_info": {
      "name": "python"
    }
  },
  "cells": [
    {
      "cell_type": "code",
      "execution_count": 37,
      "metadata": {
        "id": "T7PdGtHlUvd7"
      },
      "outputs": [],
      "source": [
        "import pandas as pd\n",
        "import numpy as np\n",
        "import matplotlib.pyplot as plt\n",
        "import seaborn as sns\n",
        "%matplotlib inline\n",
        "#from sklearn.preprocessing impor\n"
      ]
    },
    {
      "cell_type": "code",
      "source": [],
      "metadata": {
        "id": "OA0BHQbOobDd"
      },
      "execution_count": 38,
      "outputs": []
    },
    {
      "cell_type": "code",
      "source": [
        "#Loading train data\n",
        "train_data=pd.read_csv(\"train_data.csv\")\n",
        "train_data.sample(10)"
      ],
      "metadata": {
        "id": "mhsOq6mJVdiz"
      },
      "execution_count": null,
      "outputs": []
    },
    {
      "cell_type": "code",
      "source": [
        "# from google.colab import drive\n",
        "# drive.mount('/content/drive')"
      ],
      "metadata": {
        "id": "EVko9TbJSLUW"
      },
      "execution_count": null,
      "outputs": []
    },
    {
      "cell_type": "code",
      "source": [
        "train_data.describe()"
      ],
      "metadata": {
        "id": "hA5QE5mZTPjK"
      },
      "execution_count": null,
      "outputs": []
    },
    {
      "cell_type": "code",
      "source": [
        "#Checking dtypes of data columns\n",
        "train_data.info()"
      ],
      "metadata": {
        "colab": {
          "base_uri": "https://localhost:8080/"
        },
        "id": "dp9juemAV2s4",
        "outputId": "9add6735-7521-4157-d83a-a4bdd3990580"
      },
      "execution_count": 202,
      "outputs": [
        {
          "output_type": "stream",
          "name": "stdout",
          "text": [
            "<class 'pandas.core.frame.DataFrame'>\n",
            "RangeIndex: 58592 entries, 0 to 58591\n",
            "Data columns (total 44 columns):\n",
            " #   Column                            Non-Null Count  Dtype  \n",
            "---  ------                            --------------  -----  \n",
            " 0   policy_id                         58592 non-null  object \n",
            " 1   policy_tenure                     58592 non-null  float64\n",
            " 2   age_of_car                        58592 non-null  float64\n",
            " 3   age_of_policyholder               58592 non-null  float64\n",
            " 4   area_cluster                      58592 non-null  object \n",
            " 5   population_density                58592 non-null  int64  \n",
            " 6   make                              58592 non-null  int64  \n",
            " 7   segment                           58592 non-null  object \n",
            " 8   model                             58592 non-null  object \n",
            " 9   fuel_type                         58592 non-null  object \n",
            " 10  max_torque                        58592 non-null  object \n",
            " 11  max_power                         58592 non-null  object \n",
            " 12  engine_type                       58592 non-null  object \n",
            " 13  airbags                           58592 non-null  int64  \n",
            " 14  is_esc                            58592 non-null  object \n",
            " 15  is_adjustable_steering            58592 non-null  object \n",
            " 16  is_tpms                           58592 non-null  object \n",
            " 17  is_parking_sensors                58592 non-null  object \n",
            " 18  is_parking_camera                 58592 non-null  object \n",
            " 19  rear_brakes_type                  58592 non-null  object \n",
            " 20  displacement                      58592 non-null  int64  \n",
            " 21  cylinder                          58592 non-null  int64  \n",
            " 22  transmission_type                 58592 non-null  object \n",
            " 23  gear_box                          58592 non-null  int64  \n",
            " 24  steering_type                     58592 non-null  object \n",
            " 25  turning_radius                    58592 non-null  float64\n",
            " 26  length                            58592 non-null  int64  \n",
            " 27  width                             58592 non-null  int64  \n",
            " 28  height                            58592 non-null  int64  \n",
            " 29  gross_weight                      58592 non-null  int64  \n",
            " 30  is_front_fog_lights               58592 non-null  object \n",
            " 31  is_rear_window_wiper              58592 non-null  object \n",
            " 32  is_rear_window_washer             58592 non-null  object \n",
            " 33  is_rear_window_defogger           58592 non-null  object \n",
            " 34  is_brake_assist                   58592 non-null  object \n",
            " 35  is_power_door_locks               58592 non-null  object \n",
            " 36  is_central_locking                58592 non-null  object \n",
            " 37  is_power_steering                 58592 non-null  object \n",
            " 38  is_driver_seat_height_adjustable  58592 non-null  object \n",
            " 39  is_day_night_rear_view_mirror     58592 non-null  object \n",
            " 40  is_ecw                            58592 non-null  object \n",
            " 41  is_speed_alert                    58592 non-null  object \n",
            " 42  ncap_rating                       58592 non-null  int64  \n",
            " 43  is_claim                          58592 non-null  int64  \n",
            "dtypes: float64(4), int64(12), object(28)\n",
            "memory usage: 19.7+ MB\n"
          ]
        }
      ]
    },
    {
      "cell_type": "code",
      "source": [
        "#checking for total number of records and features\n",
        "train_data.shape"
      ],
      "metadata": {
        "id": "AS12VJ-uXIb1"
      },
      "execution_count": null,
      "outputs": []
    },
    {
      "cell_type": "code",
      "source": [
        "#checking for null values\n",
        "train_data.isnull().sum()"
      ],
      "metadata": {
        "id": "VXthNt4QYJyi"
      },
      "execution_count": null,
      "outputs": []
    },
    {
      "cell_type": "code",
      "source": [
        "# Separating object type and numberic data types feature\n",
        "num_data=train_data.select_dtypes(exclude='object')\n",
        "cat_data=train_data.select_dtypes(include='object')"
      ],
      "metadata": {
        "id": "CgkfG53lYQ0W"
      },
      "execution_count": 45,
      "outputs": []
    },
    {
      "cell_type": "code",
      "source": [
        "num_data.head()"
      ],
      "metadata": {
        "id": "rhhZ53hzcobD"
      },
      "execution_count": null,
      "outputs": []
    },
    {
      "cell_type": "code",
      "source": [
        "num_data.describe()"
      ],
      "metadata": {
        "id": "iazDC3Xqbi36"
      },
      "execution_count": null,
      "outputs": []
    },
    {
      "cell_type": "code",
      "source": [],
      "metadata": {
        "id": "VuKznr1yde54"
      },
      "execution_count": 47,
      "outputs": []
    },
    {
      "cell_type": "code",
      "source": [
        "cat_data.head()"
      ],
      "metadata": {
        "id": "nJ9Lb8eScqwt"
      },
      "execution_count": null,
      "outputs": []
    },
    {
      "cell_type": "code",
      "source": [
        "#checking total how many records has claimed insurance\n",
        "num_data['is_claim'].value_counts()"
      ],
      "metadata": {
        "id": "aEsMF_NrcueC"
      },
      "execution_count": null,
      "outputs": []
    },
    {
      "cell_type": "code",
      "source": [
        "train_data['age_of_car'].value_counts()"
      ],
      "metadata": {
        "id": "B4VPgzJBqLtJ"
      },
      "execution_count": null,
      "outputs": []
    },
    {
      "cell_type": "code",
      "source": [
        "old_car=[]\n",
        "new_car=[]\n",
        "for car_age in num_data['age_of_car']:\n",
        "  if car_age>0.16:\n",
        "    old_car.append(car_age)\n",
        "  else:\n",
        "    new_car.append(car_age)\n",
        "\n",
        "    \n",
        "  \n",
        "print(len(old_car))\n",
        "print(len(new_car))"
      ],
      "metadata": {
        "id": "2K0t8O9Bd_0n"
      },
      "execution_count": null,
      "outputs": []
    },
    {
      "cell_type": "code",
      "source": [
        "train_data['segment'].unique()"
      ],
      "metadata": {
        "id": "fNWGXcLHr1PQ"
      },
      "execution_count": null,
      "outputs": []
    },
    {
      "cell_type": "code",
      "source": [
        "train_data['make'].unique()"
      ],
      "metadata": {
        "id": "DSX9Y_ouY_hA"
      },
      "execution_count": null,
      "outputs": []
    },
    {
      "cell_type": "code",
      "source": [
        "train_data.plot(x='make', y='is_claim', style='o')"
      ],
      "metadata": {
        "id": "TRUpDOZzaR9g"
      },
      "execution_count": null,
      "outputs": []
    },
    {
      "cell_type": "code",
      "source": [
        "train_data.head()"
      ],
      "metadata": {
        "id": "u_HXAIIqd5cH"
      },
      "execution_count": null,
      "outputs": []
    },
    {
      "cell_type": "code",
      "source": [
        "train_data['transmission_type']"
      ],
      "metadata": {
        "id": "Q9C46orLeSJV"
      },
      "execution_count": null,
      "outputs": []
    },
    {
      "cell_type": "code",
      "source": [],
      "metadata": {
        "id": "SMb5VTLea1I8"
      },
      "execution_count": null,
      "outputs": []
    },
    {
      "cell_type": "code",
      "source": [
        "# checking for segment unique records\n",
        "from sklearn.preprocessing import LabelEncoder\n",
        "le=LabelEncoder()\n",
        "train_data['segment']=le.fit(train_data['segment'])\n",
        "print(train_data['segment'].value_counts())"
      ],
      "metadata": {
        "colab": {
          "base_uri": "https://localhost:8080/"
        },
        "id": "bTaEt9Fqe6oC",
        "outputId": "302012bf-0178-4102-e53e-b58eedbe6334"
      },
      "execution_count": null,
      "outputs": [
        {
          "output_type": "stream",
          "name": "stdout",
          "text": [
            "LabelEncoder()    58592\n",
            "Name: segment, dtype: int64\n"
          ]
        }
      ]
    },
    {
      "cell_type": "code",
      "source": [
        "train_data['model'].unique()"
      ],
      "metadata": {
        "colab": {
          "base_uri": "https://localhost:8080/"
        },
        "id": "PYd7dsbPlZf8",
        "outputId": "02586568-019a-4632-da7e-e01456aa12d2"
      },
      "execution_count": null,
      "outputs": [
        {
          "output_type": "execute_result",
          "data": {
            "text/plain": [
              "array(['M1', 'M2', 'M3', 'M4', 'M5', 'M6', 'M7', 'M8', 'M9', 'M10', 'M11'],\n",
              "      dtype=object)"
            ]
          },
          "metadata": {},
          "execution_count": 22
        }
      ]
    },
    {
      "cell_type": "code",
      "source": [
        "train_data['fuel_type'].unique()"
      ],
      "metadata": {
        "colab": {
          "base_uri": "https://localhost:8080/"
        },
        "id": "odAeXDhYlkPV",
        "outputId": "98b4f463-5640-4450-979d-06aecd7bc85c"
      },
      "execution_count": null,
      "outputs": [
        {
          "output_type": "execute_result",
          "data": {
            "text/plain": [
              "array(['CNG', 'Petrol', 'Diesel'], dtype=object)"
            ]
          },
          "metadata": {},
          "execution_count": 23
        }
      ]
    },
    {
      "cell_type": "code",
      "source": [
        "train_data['rear_brakes_type'].unique()"
      ],
      "metadata": {
        "colab": {
          "base_uri": "https://localhost:8080/"
        },
        "id": "ARQqitrfAjXN",
        "outputId": "0e68ba9e-3797-46b5-c65a-884d71ba0648"
      },
      "execution_count": 70,
      "outputs": [
        {
          "output_type": "execute_result",
          "data": {
            "text/plain": [
              "array(['Drum', 'Disc'], dtype=object)"
            ]
          },
          "metadata": {},
          "execution_count": 70
        }
      ]
    },
    {
      "cell_type": "code",
      "source": [
        "train_data['transmission_type'].unique()"
      ],
      "metadata": {
        "colab": {
          "base_uri": "https://localhost:8080/"
        },
        "id": "PTIXa1qkApvM",
        "outputId": "1bb2f74e-19d8-4245-e1d8-b5daa8817f11"
      },
      "execution_count": 71,
      "outputs": [
        {
          "output_type": "execute_result",
          "data": {
            "text/plain": [
              "array(['Manual', 'Automatic'], dtype=object)"
            ]
          },
          "metadata": {},
          "execution_count": 71
        }
      ]
    },
    {
      "cell_type": "code",
      "source": [
        "print(cat_data.columns)"
      ],
      "metadata": {
        "id": "tOcdbNASwKEz"
      },
      "execution_count": null,
      "outputs": []
    },
    {
      "cell_type": "code",
      "source": [
        "non_bool_cat_col = [col for col in cat_data.columns if not col.startswith('is')]\n",
        "print(len(cat_data.columns))\n",
        "print(len(non_bool_cat_col))"
      ],
      "metadata": {
        "id": "aqVypuhtlsfh",
        "colab": {
          "base_uri": "https://localhost:8080/"
        },
        "outputId": "559c8442-b9c2-4e1f-a7ea-f4b4d50dc0c6"
      },
      "execution_count": 51,
      "outputs": [
        {
          "output_type": "stream",
          "name": "stdout",
          "text": [
            "28\n",
            "11\n"
          ]
        }
      ]
    },
    {
      "cell_type": "code",
      "source": [
        "print(non_bool_cat_col)"
      ],
      "metadata": {
        "colab": {
          "base_uri": "https://localhost:8080/"
        },
        "id": "fKCJ0qX_wdA_",
        "outputId": "95a82572-ed86-4e27-d538-07df993500e9"
      },
      "execution_count": 52,
      "outputs": [
        {
          "output_type": "stream",
          "name": "stdout",
          "text": [
            "['policy_id', 'area_cluster', 'segment', 'model', 'fuel_type', 'max_torque', 'max_power', 'engine_type', 'rear_brakes_type', 'transmission_type', 'steering_type']\n"
          ]
        }
      ]
    },
    {
      "cell_type": "code",
      "source": [
        "cat_data['area_cluster'].unique()"
      ],
      "metadata": {
        "id": "ngK-fVAlwm4p"
      },
      "execution_count": null,
      "outputs": []
    },
    {
      "cell_type": "code",
      "source": [
        "cat_data = cat_data.drop('policy_id', axis=1)"
      ],
      "metadata": {
        "id": "d7YqgDmV8RSz"
      },
      "execution_count": 55,
      "outputs": []
    },
    {
      "cell_type": "code",
      "source": [
        "# Plot histogram with #unique_vals for each cat column\n",
        "col_names = []\n",
        "unique_count = []\n",
        "for col in cat_data.columns:\n",
        "  if not (col.startswith('is')):\n",
        "    col_names.append(col)\n",
        "    unique_count.append(len(cat_data[col].unique()))"
      ],
      "metadata": {
        "id": "-xxtEMJtxHRw"
      },
      "execution_count": 72,
      "outputs": []
    },
    {
      "cell_type": "code",
      "source": [
        "print(col_names)\n",
        "print(unique_count)"
      ],
      "metadata": {
        "colab": {
          "base_uri": "https://localhost:8080/"
        },
        "id": "IATXO3nl8H-G",
        "outputId": "fc3962aa-e6a0-4ed1-d39d-ff7c0f004167"
      },
      "execution_count": 74,
      "outputs": [
        {
          "output_type": "stream",
          "name": "stdout",
          "text": [
            "['area_cluster', 'segment', 'model', 'fuel_type', 'max_torque', 'max_power', 'engine_type', 'rear_brakes_type', 'transmission_type', 'steering_type']\n",
            "[22, 6, 11, 3, 9, 9, 11, 2, 2, 3]\n"
          ]
        }
      ]
    },
    {
      "cell_type": "code",
      "source": [
        "import matplotlib.pyplot as plt\n",
        "import numpy as np\n",
        "%matplotlib inline\n",
        "\n",
        "np.random.seed(42)\n",
        "\n",
        "plt.figure(figsize=(20,5))\n",
        "\n",
        "plt.bar(col_names, height=unique_count)\n",
        "plt.ylabel('Categorical Data Types')\n",
        "plt.xlabel('Number of Unique Elements');\n",
        "plt.xticks(rotation=90)"
      ],
      "metadata": {
        "colab": {
          "base_uri": "https://localhost:8080/",
          "height": 289
        },
        "id": "nVteaYz8yNRd",
        "outputId": "e749fa08-5bd1-42a9-85d8-ed8bfa12b043"
      },
      "execution_count": 69,
      "outputs": [
        {
          "output_type": "execute_result",
          "data": {
            "text/plain": [
              "([0, 1, 2, 3, 4, 5, 6, 7, 8, 9], <a list of 10 Text major ticklabel objects>)"
            ]
          },
          "metadata": {},
          "execution_count": 69
        },
        {
          "output_type": "display_data",
          "data": {
            "text/plain": [
              "<Figure size 1440x360 with 1 Axes>"
            ],
            "image/png": "[encoded data removed]"
          },
          "metadata": {
            "needs_background": "light"
          }
        }
      ]
    },
    {
      "cell_type": "code",
      "source": [
        "train_features = train_data.drop('is_claim', axis=1)\n",
        "target = train_data.is_claim\n",
        "\n",
        "train_features = train_features.drop('policy_id', axis=1)"
      ],
      "metadata": {
        "id": "GKyqW0FJVazy"
      },
      "execution_count": 205,
      "outputs": []
    },
    {
      "cell_type": "code",
      "source": [
        "train_features.columns"
      ],
      "metadata": {
        "colab": {
          "base_uri": "https://localhost:8080/"
        },
        "id": "DIWZf3Bngxir",
        "outputId": "babfc669-0aeb-429d-9f7e-ac4bee38a4ae"
      },
      "execution_count": 206,
      "outputs": [
        {
          "output_type": "execute_result",
          "data": {
            "text/plain": [
              "Index(['policy_tenure', 'age_of_car', 'age_of_policyholder', 'area_cluster',\n",
              "       'population_density', 'make', 'segment', 'model', 'fuel_type',\n",
              "       'max_torque', 'max_power', 'engine_type', 'airbags', 'is_esc',\n",
              "       'is_adjustable_steering', 'is_tpms', 'is_parking_sensors',\n",
              "       'is_parking_camera', 'rear_brakes_type', 'displacement', 'cylinder',\n",
              "       'transmission_type', 'gear_box', 'steering_type', 'turning_radius',\n",
              "       'length', 'width', 'height', 'gross_weight', 'is_front_fog_lights',\n",
              "       'is_rear_window_wiper', 'is_rear_window_washer',\n",
              "       'is_rear_window_defogger', 'is_brake_assist', 'is_power_door_locks',\n",
              "       'is_central_locking', 'is_power_steering',\n",
              "       'is_driver_seat_height_adjustable', 'is_day_night_rear_view_mirror',\n",
              "       'is_ecw', 'is_speed_alert', 'ncap_rating'],\n",
              "      dtype='object')"
            ]
          },
          "metadata": {},
          "execution_count": 206
        }
      ]
    },
    {
      "cell_type": "code",
      "source": [
        "# Separating object type and numberic data types feature\n",
        "num_data=train_features.select_dtypes(exclude='object')\n",
        "cat_data=train_features.select_dtypes(include='object')\n",
        "# print(len(cat_data.columns), len(num_data.columns))"
      ],
      "metadata": {
        "id": "UnnnORDbJ21d"
      },
      "execution_count": 207,
      "outputs": []
    },
    {
      "cell_type": "code",
      "source": [
        "#Numerical Columns\n",
        "norm_cols = ['policy_tenure', 'age_of_car', 'age_of_policyholder']\n",
        "cols_to_norm = ['population_density', 'airbags', 'displacement', 'cylinder', 'gear_box', 'turning_radius', 'length', 'width', 'height', 'gross_weight', 'ncap_rating']\n",
        "cols_to_norm.extend(norm_cols)\n",
        "one_hot_columns = [\"make\"]"
      ],
      "metadata": {
        "id": "6mMr4Gt8V0pI"
      },
      "execution_count": 208,
      "outputs": []
    },
    {
      "cell_type": "code",
      "source": [
        "cols_to_norm"
      ],
      "metadata": {
        "colab": {
          "base_uri": "https://localhost:8080/"
        },
        "id": "lOaUDETzfyRE",
        "outputId": "5fb9bd0d-788c-4a4c-c13f-e10e94139297"
      },
      "execution_count": 209,
      "outputs": [
        {
          "output_type": "execute_result",
          "data": {
            "text/plain": [
              "['population_density',\n",
              " 'airbags',\n",
              " 'displacement',\n",
              " 'cylinder',\n",
              " 'gear_box',\n",
              " 'turning_radius',\n",
              " 'length',\n",
              " 'width',\n",
              " 'height',\n",
              " 'gross_weight',\n",
              " 'ncap_rating',\n",
              " 'policy_tenure',\n",
              " 'age_of_car',\n",
              " 'age_of_policyholder']"
            ]
          },
          "metadata": {},
          "execution_count": 209
        }
      ]
    },
    {
      "cell_type": "code",
      "source": [
        "print(train_features[\"make\"].value_counts())"
      ],
      "metadata": {
        "colab": {
          "base_uri": "https://localhost:8080/"
        },
        "id": "PqcvnIrEWEiE",
        "outputId": "18f1a2c1-007f-4a0b-f3ec-33b6125b0c45"
      },
      "execution_count": 210,
      "outputs": [
        {
          "output_type": "stream",
          "name": "stdout",
          "text": [
            "1    38126\n",
            "3    14018\n",
            "2     2373\n",
            "5     2114\n",
            "4     1961\n",
            "Name: make, dtype: int64\n"
          ]
        }
      ]
    },
    {
      "cell_type": "code",
      "source": [
        "# Converting the boolean columns to binary columns\n",
        "for column in train_features.columns:\n",
        "  if(column.startswith('is')):\n",
        "    train_features[column] = train_features[column].apply(lambda x: 1 if x=='Yes' else 0)"
      ],
      "metadata": {
        "id": "JaOl8F21VExA"
      },
      "execution_count": 211,
      "outputs": []
    },
    {
      "cell_type": "code",
      "source": [
        "# Plot histogram with #unique_vals for each cat column\n",
        "col_names = []\n",
        "unique_count = []\n",
        "for col in cat_data.columns:\n",
        "  if not (col.startswith('is')):\n",
        "    col_names.append(col)\n",
        "    unique_count.append(len(train_features[col].unique()))"
      ],
      "metadata": {
        "id": "xbqNugq7Io4E"
      },
      "execution_count": 212,
      "outputs": []
    },
    {
      "cell_type": "code",
      "source": [
        "# As make is also categorical \n",
        "col_names.append(one_hot_columns[0])\n",
        "unique_count.append(len(train_features[one_hot_columns[0]].unique()))"
      ],
      "metadata": {
        "id": "ae-FJ__xWqve"
      },
      "execution_count": 213,
      "outputs": []
    },
    {
      "cell_type": "code",
      "source": [
        "print(col_names)\n",
        "print(unique_count, sum(unique_count))"
      ],
      "metadata": {
        "colab": {
          "base_uri": "https://localhost:8080/"
        },
        "id": "yR8DnBygLscg",
        "outputId": "fd0f4375-ba0d-4c07-c97e-c5720ca4720f"
      },
      "execution_count": 214,
      "outputs": [
        {
          "output_type": "stream",
          "name": "stdout",
          "text": [
            "['area_cluster', 'segment', 'model', 'fuel_type', 'max_torque', 'max_power', 'engine_type', 'rear_brakes_type', 'transmission_type', 'steering_type', 'make']\n",
            "[22, 6, 11, 3, 9, 9, 11, 2, 2, 3, 5] 83\n"
          ]
        }
      ]
    },
    {
      "cell_type": "code",
      "source": [
        "from sklearn.preprocessing import LabelEncoder\n",
        "# instantiate labelencoder object\n",
        "le = LabelEncoder()\n",
        "\n",
        "# apply le on categorical feature columns\n",
        "train_features[col_names] = train_features[col_names].apply(lambda col: le.fit_transform(col))    \n",
        "\n",
        "\n",
        "from sklearn.preprocessing import OneHotEncoder\n",
        "ohe = OneHotEncoder()\n",
        "\n",
        "#One-hot-encode the categorical columns.\n",
        "#Unfortunately outputs an array instead of dataframe.\n",
        "array_hot_encoded = ohe.fit_transform(train_features[col_names]).toarray()\n",
        "\n",
        "#Convert it to df\n",
        "data_hot_encoded = pd.DataFrame(array_hot_encoded, index=train_features.index)\n",
        "\n",
        "#Extract only the columns that didnt need to be encoded\n",
        "data_other_cols = train_features.drop(columns=col_names)\n",
        "\n",
        "#Concatenate the two dataframes : \n",
        "data_out = pd.concat([data_hot_encoded, data_other_cols], axis=1)"
      ],
      "metadata": {
        "id": "mhm4yF2Wh4NR"
      },
      "execution_count": 215,
      "outputs": []
    },
    {
      "cell_type": "code",
      "source": [
        "print(len(data_other_cols.columns))\n",
        "print(len(data_hot_encoded.columns))\n",
        "print(len(data_out.columns))"
      ],
      "metadata": {
        "colab": {
          "base_uri": "https://localhost:8080/"
        },
        "id": "eLSwtwWHMSsM",
        "outputId": "affe2dce-89c9-4b69-f435-160e3ae03068"
      },
      "execution_count": 216,
      "outputs": [
        {
          "output_type": "stream",
          "name": "stdout",
          "text": [
            "31\n",
            "83\n",
            "114\n"
          ]
        }
      ]
    },
    {
      "cell_type": "code",
      "source": [
        "from sklearn.preprocessing import MinMaxScaler\n",
        "scaler = MinMaxScaler()\n",
        "\n",
        "normalized_train_features = pd.DataFrame(\n",
        "    scaler.fit_transform(train_features[cols_to_norm]),\n",
        "    columns = cols_to_norm\n",
        ")"
      ],
      "metadata": {
        "id": "QDmbkSZvQ6fm"
      },
      "execution_count": 217,
      "outputs": []
    },
    {
      "cell_type": "code",
      "source": [
        "len(normalized_train_features.columns)"
      ],
      "metadata": {
        "colab": {
          "base_uri": "https://localhost:8080/"
        },
        "id": "iNABr6LTdlPg",
        "outputId": "7a40cbd5-6d5d-449b-cb76-97296e218cfa"
      },
      "execution_count": 218,
      "outputs": [
        {
          "output_type": "execute_result",
          "data": {
            "text/plain": [
              "14"
            ]
          },
          "metadata": {},
          "execution_count": 218
        }
      ]
    },
    {
      "cell_type": "code",
      "source": [
        "#Concatenate the two dataframes : \n",
        "final_data = pd.concat([normalized_train_features, data_out], axis=1)"
      ],
      "metadata": {
        "id": "2Q4WI6BFbAZX"
      },
      "execution_count": 219,
      "outputs": []
    },
    {
      "cell_type": "code",
      "source": [
        "len(final_data.columns)"
      ],
      "metadata": {
        "colab": {
          "base_uri": "https://localhost:8080/"
        },
        "id": "rdEjqIJFbjDW",
        "outputId": "935cadd8-e499-45ee-848a-74c9444ea37b"
      },
      "execution_count": 220,
      "outputs": [
        {
          "output_type": "execute_result",
          "data": {
            "text/plain": [
              "128"
            ]
          },
          "metadata": {},
          "execution_count": 220
        }
      ]
    },
    {
      "cell_type": "code",
      "source": [
        "final_data.info()"
      ],
      "metadata": {
        "id": "in2rPtznitzb"
      },
      "execution_count": null,
      "outputs": []
    },
    {
      "cell_type": "code",
      "source": [
        "final_data.isnull().sum()"
      ],
      "metadata": {
        "colab": {
          "base_uri": "https://localhost:8080/"
        },
        "id": "w0bdqmhmkje6",
        "outputId": "0aa329d0-f7e9-47cc-cd35-8f605ff70c41"
      },
      "execution_count": 204,
      "outputs": [
        {
          "output_type": "execute_result",
          "data": {
            "text/plain": [
              "population_density                  0\n",
              "airbags                             0\n",
              "displacement                        0\n",
              "cylinder                            0\n",
              "gear_box                            0\n",
              "                                   ..\n",
              "is_driver_seat_height_adjustable    0\n",
              "is_day_night_rear_view_mirror       0\n",
              "is_ecw                              0\n",
              "is_speed_alert                      0\n",
              "ncap_rating                         0\n",
              "Length: 128, dtype: int64"
            ]
          },
          "metadata": {},
          "execution_count": 204
        }
      ]
    },
    {
      "cell_type": "code",
      "source": [
        "from sklearn.model_selection import train_test_split\n",
        "x_train, x_test, y_train, y_test = train_test_split(final_data, target,\n",
        "                                                 test_size = 0.3,\n",
        "                                                 random_state = 42)"
      ],
      "metadata": {
        "id": "Hnz1szYXk6NU"
      },
      "execution_count": 225,
      "outputs": []
    },
    {
      "cell_type": "code",
      "source": [
        "print(x_train.shape, y_train.shape)\n",
        "print(x_test.shape, y_test.shape)"
      ],
      "metadata": {
        "colab": {
          "base_uri": "https://localhost:8080/"
        },
        "id": "rKIWP3IQmcv1",
        "outputId": "0a549e34-4778-4ba6-d307-086c9cb9e6b2"
      },
      "execution_count": 226,
      "outputs": [
        {
          "output_type": "stream",
          "name": "stdout",
          "text": [
            "(41014, 128) (41014,)\n",
            "(17578, 128) (17578,)\n"
          ]
        }
      ]
    },
    {
      "cell_type": "code",
      "source": [
        "from sklearn.tree import DecisionTreeClassifier\n",
        "clf = DecisionTreeClassifier(max_depth = 40, random_state = 42)\n",
        "clf.fit(x_train, y_train)"
      ],
      "metadata": {
        "id": "V4fMpwz6lbaU"
      },
      "execution_count": null,
      "outputs": []
    },
    {
      "cell_type": "code",
      "source": [
        "y_pred_train = clf.predict(x_train)\n",
        "y_pred_test = clf.predict(x_test)"
      ],
      "metadata": {
        "id": "S3Xv4Kkfm14q"
      },
      "execution_count": null,
      "outputs": []
    },
    {
      "cell_type": "code",
      "source": [
        "from sklearn import metrics\n",
        "\n",
        "print(metrics.accuracy_score(y_train, y_pred_train))\n",
        "print(metrics.accuracy_score(y_test, y_pred_test))"
      ],
      "metadata": {
        "colab": {
          "base_uri": "https://localhost:8080/"
        },
        "id": "bCzSZ3Esnnnk",
        "outputId": "1b186af1-0d60-4b74-a045-fcf8eef5f2ba"
      },
      "execution_count": 248,
      "outputs": [
        {
          "output_type": "stream",
          "name": "stdout",
          "text": [
            "0.9994148339591359\n",
            "0.8713733075435203\n"
          ]
        }
      ]
    },
    {
      "cell_type": "code",
      "source": [
        "import seaborn as sns\n",
        "import matplotlib.pyplot as plt\n",
        "#get the confusion matrix\n",
        "confusion_matrix = metrics.confusion_matrix(y_test,  \n",
        "                                            y_pred_test)\n",
        "#turn this into a dataframe\n",
        "matrix_df = pd.DataFrame(confusion_matrix)\n",
        "#plot the result\n",
        "ax = plt.axes()\n",
        "sns.set(font_scale=1.3)\n",
        "plt.figure(figsize=(10,7))\n",
        "sns.heatmap(matrix_df, annot=True, fmt=\"g\", ax=ax, cmap=\"magma\")\n",
        "#set axis titles\n",
        "ax.set_title('Confusion Matrix - Decision Tree')\n",
        "ax.set_xlabel(\"Predicted label\", fontsize =15)\n",
        "# ax.set_xticklabels(['']+labels)\n",
        "ax.set_ylabel(\"True Label\", fontsize=15)\n",
        "# ax.set_yticklabels(list(labels), rotation = 0)\n",
        "plt.show()"
      ],
      "metadata": {
        "colab": {
          "base_uri": "https://localhost:8080/",
          "height": 327
        },
        "id": "sgs-p-xKnF-S",
        "outputId": "4792aa03-5a3a-4856-96b8-4d13a08c9e14"
      },
      "execution_count": 249,
      "outputs": [
        {
          "output_type": "display_data",
          "data": {
            "text/plain": [
              "<Figure size 432x288 with 2 Axes>"
            ],
            "image/png": "[encoded data removed]"
          },
          "metadata": {}
        },
        {
          "output_type": "display_data",
          "data": {
            "text/plain": [
              "<Figure size 720x504 with 0 Axes>"
            ]
          },
          "metadata": {}
        }
      ]
    },
    {
      "cell_type": "code",
      "source": [
        "corr_data = pd.concat([normalized_train_features, target], axis=1)"
      ],
      "metadata": {
        "id": "9h4uE_TAx5Pf"
      },
      "execution_count": 256,
      "outputs": []
    },
    {
      "cell_type": "code",
      "source": [
        "import seaborn as sns\n",
        "sns.heatmap(corr_data.corr(),\n",
        "                xticklabels=corr_data.columns,\n",
        "                yticklabels=corr_data.columns)"
      ],
      "metadata": {
        "colab": {
          "base_uri": "https://localhost:8080/",
          "height": 423
        },
        "id": "5P1CS9uyoEoM",
        "outputId": "29ccd8ad-c40a-4d14-fa88-648ba6cf1f50"
      },
      "execution_count": 258,
      "outputs": [
        {
          "output_type": "execute_result",
          "data": {
            "text/plain": [
              "<matplotlib.axes._subplots.AxesSubplot at 0x7f70fe69bf10>"
            ]
          },
          "metadata": {},
          "execution_count": 258
        },
        {
          "output_type": "display_data",
          "data": {
            "text/plain": [
              "<Figure size 432x288 with 2 Axes>"
            ],
            "image/png": "[encoded data removed]"
          },
          "metadata": {}
        }
      ]
    },
    {
      "cell_type": "code",
      "source": [],
      "metadata": {
        "id": "dWpIk8wBxUR1"
      },
      "execution_count": null,
      "outputs": []
    }
  ]
}